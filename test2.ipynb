{
 "cells": [
  {
   "cell_type": "code",
   "execution_count": 7,
   "metadata": {
    "execution": {
     "iopub.execute_input": "2021-12-31T05:06:09.348233Z",
     "iopub.status.busy": "2021-12-31T05:06:09.347966Z",
     "iopub.status.idle": "2021-12-31T05:06:09.351533Z",
     "shell.execute_reply": "2021-12-31T05:06:09.350728Z",
     "shell.execute_reply.started": "2021-12-31T05:06:09.348211Z"
    }
   },
   "outputs": [],
   "source": [
    "import pandas as pd\n",
    "import numpy as np\n",
    "from datetime import datetime"
   ]
  },
  {
   "cell_type": "code",
   "execution_count": 2,
   "metadata": {
    "execution": {
     "iopub.execute_input": "2021-12-31T05:05:36.291932Z",
     "iopub.status.busy": "2021-12-31T05:05:36.291669Z",
     "iopub.status.idle": "2021-12-31T05:05:36.308776Z",
     "shell.execute_reply": "2021-12-31T05:05:36.307964Z",
     "shell.execute_reply.started": "2021-12-31T05:05:36.291910Z"
    }
   },
   "outputs": [],
   "source": [
    "train = pd.read_csv('./dataset/train.csv')\n",
    "train.drop(columns='id', inplace=True)\n",
    "\n",
    "test = pd.read_csv('./dataset/test.csv')\n",
    "sample_submission = pd.read_csv('./dataset/sample_submission.csv')"
   ]
  },
  {
   "cell_type": "code",
   "execution_count": 4,
   "metadata": {
    "execution": {
     "iopub.execute_input": "2021-12-31T05:05:51.071351Z",
     "iopub.status.busy": "2021-12-31T05:05:51.071087Z",
     "iopub.status.idle": "2021-12-31T05:05:51.084717Z",
     "shell.execute_reply": "2021-12-31T05:05:51.084015Z",
     "shell.execute_reply.started": "2021-12-31T05:05:51.071328Z"
    }
   },
   "outputs": [],
   "source": [
    "train = pd.get_dummies(train, columns=['Species', 'Island'])\n",
    "train['Clutch Completion'] = train['Clutch Completion'].eq('Yes').mul(1)\n",
    "train['Sex'] = train['Sex'].eq('MALE').mul(1)\n",
    "\n",
    "numeric_cols = ['Culmen Length (mm)', 'Culmen Depth (mm)', 'Flipper Length (mm)', 'Delta 15 N (o/oo)', 'Delta 13 C (o/oo)']\n",
    "train[numeric_cols] = np.log1p(train[numeric_cols])\n",
    "train.fillna(0, inplace=True)"
   ]
  },
  {
   "cell_type": "code",
   "execution_count": 22,
   "metadata": {
    "execution": {
     "iopub.execute_input": "2021-12-31T04:43:46.133237Z",
     "iopub.status.busy": "2021-12-31T04:43:46.132998Z",
     "iopub.status.idle": "2021-12-31T04:43:46.650830Z",
     "shell.execute_reply": "2021-12-31T04:43:46.650211Z",
     "shell.execute_reply.started": "2021-12-31T04:43:46.133214Z"
    }
   },
   "outputs": [],
   "source": [
    "from sklearn.preprocessing import StandardScaler"
   ]
  },
  {
   "cell_type": "code",
   "execution_count": 23,
   "metadata": {
    "execution": {
     "iopub.execute_input": "2021-12-31T04:43:46.658881Z",
     "iopub.status.busy": "2021-12-31T04:43:46.658485Z",
     "iopub.status.idle": "2021-12-31T04:43:46.679063Z",
     "shell.execute_reply": "2021-12-31T04:43:46.678005Z",
     "shell.execute_reply.started": "2021-12-31T04:43:46.658855Z"
    }
   },
   "outputs": [],
   "source": [
    "scaler = StandardScaler()\n",
    "train[numeric_cols] = scaler.fit_transform(train[numeric_cols])"
   ]
  },
  {
   "cell_type": "code",
   "execution_count": 24,
   "metadata": {
    "execution": {
     "iopub.execute_input": "2021-12-31T04:43:46.682293Z",
     "iopub.status.busy": "2021-12-31T04:43:46.681561Z",
     "iopub.status.idle": "2021-12-31T04:43:46.701673Z",
     "shell.execute_reply": "2021-12-31T04:43:46.700705Z",
     "shell.execute_reply.started": "2021-12-31T04:43:46.682247Z"
    }
   },
   "outputs": [],
   "source": [
    "train = pd.get_dummies(train, columns=['Species', 'Island', 'Sex'])"
   ]
  },
  {
   "cell_type": "code",
   "execution_count": 25,
   "metadata": {
    "execution": {
     "iopub.execute_input": "2021-12-31T04:43:46.703912Z",
     "iopub.status.busy": "2021-12-31T04:43:46.703422Z",
     "iopub.status.idle": "2021-12-31T04:43:46.715080Z",
     "shell.execute_reply": "2021-12-31T04:43:46.714013Z",
     "shell.execute_reply.started": "2021-12-31T04:43:46.703870Z"
    }
   },
   "outputs": [],
   "source": [
    "train['Clutch Completion'] = train['Clutch Completion'].eq('Yes').mul(1)"
   ]
  },
  {
   "cell_type": "code",
   "execution_count": 32,
   "metadata": {
    "execution": {
     "iopub.execute_input": "2021-12-31T04:48:00.057245Z",
     "iopub.status.busy": "2021-12-31T04:48:00.056980Z",
     "iopub.status.idle": "2021-12-31T04:48:00.061000Z",
     "shell.execute_reply": "2021-12-31T04:48:00.060136Z",
     "shell.execute_reply.started": "2021-12-31T04:48:00.057221Z"
    }
   },
   "outputs": [],
   "source": [
    "train.fillna(0, inplace=True)"
   ]
  },
  {
   "cell_type": "code",
   "execution_count": 3,
   "metadata": {
    "execution": {
     "iopub.execute_input": "2021-12-31T05:05:49.639246Z",
     "iopub.status.busy": "2021-12-31T05:05:49.638975Z",
     "iopub.status.idle": "2021-12-31T05:05:49.654373Z",
     "shell.execute_reply": "2021-12-31T05:05:49.653535Z",
     "shell.execute_reply.started": "2021-12-31T05:05:49.639223Z"
    }
   },
   "outputs": [],
   "source": [
    "test = pd.get_dummies(test, columns=['Species', 'Island'])\n",
    "test['Clutch Completion'] = test['Clutch Completion'].eq('Yes').mul(1)\n",
    "test['Sex'] = test['Sex'].eq('MALE').mul(1)\n",
    "\n",
    "numeric_cols = ['Culmen Length (mm)', 'Culmen Depth (mm)', 'Flipper Length (mm)', 'Delta 15 N (o/oo)', 'Delta 13 C (o/oo)']\n",
    "test[numeric_cols] = np.log1p(test[numeric_cols])\n",
    "test.fillna(0, inplace=True)"
   ]
  },
  {
   "cell_type": "markdown",
   "metadata": {},
   "source": [
    "## Ridge"
   ]
  },
  {
   "cell_type": "code",
   "execution_count": 5,
   "metadata": {
    "execution": {
     "iopub.execute_input": "2021-12-31T05:05:53.021289Z",
     "iopub.status.busy": "2021-12-31T05:05:53.021029Z",
     "iopub.status.idle": "2021-12-31T05:05:53.025711Z",
     "shell.execute_reply": "2021-12-31T05:05:53.024888Z",
     "shell.execute_reply.started": "2021-12-31T05:05:53.021267Z"
    }
   },
   "outputs": [],
   "source": [
    "x_train = train.drop(columns=['Body Mass (g)', 'Island_Biscoe', 'Island_Dream', 'Island_Torgersen'])\n",
    "y_train = train['Body Mass (g)']"
   ]
  },
  {
   "cell_type": "code",
   "execution_count": 6,
   "metadata": {
    "execution": {
     "iopub.execute_input": "2021-12-31T05:05:53.326929Z",
     "iopub.status.busy": "2021-12-31T05:05:53.326635Z",
     "iopub.status.idle": "2021-12-31T05:05:53.978529Z",
     "shell.execute_reply": "2021-12-31T05:05:53.977688Z",
     "shell.execute_reply.started": "2021-12-31T05:05:53.326907Z"
    }
   },
   "outputs": [
    {
     "name": "stdout",
     "output_type": "stream",
     "text": [
      "alpha 값  0 일때 평균 rmse : 318.3601\n",
      "alpha 값  0.1 일때 평균 rmse : 313.6235\n",
      "alpha 값  1 일때 평균 rmse : 321.5818\n",
      "alpha 값  10 일때 평균 rmse : 365.7111\n",
      "alpha 값  50 일때 평균 rmse : 540.6165\n"
     ]
    }
   ],
   "source": [
    "from sklearn.linear_model import Ridge\n",
    "from sklearn.model_selection import cross_val_score\n",
    "\n",
    "alphas = [0,0.1,1,10,50]\n",
    "\n",
    "for alpha in alphas:\n",
    "    ridge = Ridge(alpha=alpha)\n",
    "    neg_mse_scores = cross_val_score(ridge, x_train, y_train, scoring = 'neg_mean_squared_error', cv = 5)\n",
    "    avg_rmse = np.mean(np.sqrt(-neg_mse_scores))\n",
    "    print('alpha 값 ', alpha, '일때 평균 rmse :', np.round(avg_rmse,4))    "
   ]
  },
  {
   "cell_type": "code",
   "execution_count": 13,
   "metadata": {
    "execution": {
     "iopub.execute_input": "2021-12-31T05:07:07.502656Z",
     "iopub.status.busy": "2021-12-31T05:07:07.502393Z",
     "iopub.status.idle": "2021-12-31T05:07:07.515563Z",
     "shell.execute_reply": "2021-12-31T05:07:07.514764Z",
     "shell.execute_reply.started": "2021-12-31T05:07:07.502634Z"
    }
   },
   "outputs": [],
   "source": [
    "ridge = Ridge(alpha = 10)\n",
    "ridge.fit(x_train, y_train)\n",
    "\n",
    "x_test = test.drop(columns=['id', 'Island_Biscoe', 'Island_Dream', 'Island_Torgersen'])\n",
    "\n",
    "sample_submission['Body Mass (g)'] = ridge.predict(x_test)\n",
    "sample_submission.to_csv('./penguin_result_{}.csv'.format(datetime.now().strftime('%Y%m%d%H%M')), index=False)"
   ]
  },
  {
   "cell_type": "markdown",
   "metadata": {},
   "source": [
    "## xgb, LGBM"
   ]
  },
  {
   "cell_type": "code",
   "execution_count": 20,
   "metadata": {
    "execution": {
     "iopub.execute_input": "2021-12-31T05:09:56.361800Z",
     "iopub.status.busy": "2021-12-31T05:09:56.361517Z",
     "iopub.status.idle": "2021-12-31T05:09:56.365081Z",
     "shell.execute_reply": "2021-12-31T05:09:56.364217Z",
     "shell.execute_reply.started": "2021-12-31T05:09:56.361776Z"
    }
   },
   "outputs": [],
   "source": [
    "import xgboost as xgb\n",
    "from lightgbm import LGBMRegressor"
   ]
  },
  {
   "cell_type": "code",
   "execution_count": 15,
   "metadata": {
    "execution": {
     "iopub.execute_input": "2021-12-31T05:07:21.428236Z",
     "iopub.status.busy": "2021-12-31T05:07:21.427934Z",
     "iopub.status.idle": "2021-12-31T05:07:21.433163Z",
     "shell.execute_reply": "2021-12-31T05:07:21.432358Z",
     "shell.execute_reply.started": "2021-12-31T05:07:21.428214Z"
    }
   },
   "outputs": [],
   "source": [
    "from sklearn.model_selection import GridSearchCV\n",
    "\n",
    "def get_best_params(model, params, cv=5):\n",
    "    grid_model = GridSearchCV(model, param_grid=params, scoring='neg_mean_squared_error', cv=cv)\n",
    "    grid_model.fit(x_train, y_train)\n",
    "    rmse = np.sqrt(-1* grid_model.best_score_)\n",
    "    print('최적 평균 RMSE 값:', np.round(rmse, 4))\n",
    "    print('최적 파라미터:', grid_model.best_params_)\n",
    "    \n",
    "    return grid_model.best_estimator_"
   ]
  },
  {
   "cell_type": "code",
   "execution_count": 16,
   "metadata": {
    "execution": {
     "iopub.execute_input": "2021-12-31T05:07:21.691073Z",
     "iopub.status.busy": "2021-12-31T05:07:21.690810Z",
     "iopub.status.idle": "2021-12-31T05:07:45.495747Z",
     "shell.execute_reply": "2021-12-31T05:07:45.494954Z",
     "shell.execute_reply.started": "2021-12-31T05:07:21.691051Z"
    }
   },
   "outputs": [
    {
     "name": "stdout",
     "output_type": "stream",
     "text": [
      "최적 평균 RMSE 값: 318.8624\n",
      "최적 파라미터: {'learning_rate': 0.01, 'max_depth': 3, 'n_estimators': 500}\n"
     ]
    }
   ],
   "source": [
    "lgbm_params = {\n",
    "    'n_estimators':[500, 1000, 1500, 2000], \n",
    "    'learning_rate': [0.1, 0.05, 0.01, 0.005], \n",
    "    'max_depth': [1,2,3,4]\n",
    "}\n",
    "\n",
    "lgbm_reg = LGBMRegressor(max_depth=3, n_estimators=1000)\n",
    "best_lgbm = get_best_params(lgbm_reg, lgbm_params)"
   ]
  },
  {
   "cell_type": "code",
   "execution_count": 17,
   "metadata": {
    "execution": {
     "iopub.execute_input": "2021-12-31T05:07:45.497554Z",
     "iopub.status.busy": "2021-12-31T05:07:45.497157Z",
     "iopub.status.idle": "2021-12-31T05:07:45.942930Z",
     "shell.execute_reply": "2021-12-31T05:07:45.942175Z",
     "shell.execute_reply.started": "2021-12-31T05:07:45.497528Z"
    }
   },
   "outputs": [
    {
     "data": {
      "text/plain": [
       "<BarContainer object of 10 artists>"
      ]
     },
     "execution_count": 17,
     "metadata": {},
     "output_type": "execute_result"
    },
    {
     "data": {
      "image/png": "[encoded data removed]",
      "text/plain": [
       "<Figure size 1080x576 with 1 Axes>"
      ]
     },
     "metadata": {
      "needs_background": "light"
     },
     "output_type": "display_data"
    }
   ],
   "source": [
    "import matplotlib.pyplot as plt\n",
    "%matplotlib inline\n",
    "sorted_idx = best_lgbm.feature_importances_.argsort()\n",
    "\n",
    "plt.figure(figsize=(15,8))\n",
    "plt.barh(train.columns[sorted_idx], best_lgbm.feature_importances_[sorted_idx])"
   ]
  },
  {
   "cell_type": "code",
   "execution_count": 19,
   "metadata": {
    "execution": {
     "iopub.execute_input": "2021-12-31T05:08:49.822168Z",
     "iopub.status.busy": "2021-12-31T05:08:49.821875Z",
     "iopub.status.idle": "2021-12-31T05:08:49.831071Z",
     "shell.execute_reply": "2021-12-31T05:08:49.830161Z",
     "shell.execute_reply.started": "2021-12-31T05:08:49.822134Z"
    }
   },
   "outputs": [],
   "source": [
    "sample_submission['Body Mass (g)'] = best_lgbm.predict(x_test)\n",
    "sample_submission.to_csv('./penguin_result_{}.csv'.format(datetime.now().strftime('%Y%m%d%H%M')), index=False)"
   ]
  },
  {
   "cell_type": "markdown",
   "metadata": {},
   "source": [
    "## Regressor"
   ]
  },
  {
   "cell_type": "code",
   "execution_count": 31,
   "metadata": {
    "execution": {
     "iopub.execute_input": "2021-12-31T05:12:56.322006Z",
     "iopub.status.busy": "2021-12-31T05:12:56.321660Z",
     "iopub.status.idle": "2021-12-31T05:12:56.325960Z",
     "shell.execute_reply": "2021-12-31T05:12:56.325067Z",
     "shell.execute_reply.started": "2021-12-31T05:12:56.321980Z"
    }
   },
   "outputs": [],
   "source": [
    "from sklearn.ensemble import RandomForestRegressor, GradientBoostingRegressor, ExtraTreesRegressor\n",
    "from catboost import CatBoostRegressor\n",
    "from ngboost import NGBRegressor\n",
    "from sklearn.model_selection import KFold\n",
    "from sklearn.metrics import mean_squared_error"
   ]
  },
  {
   "cell_type": "code",
   "execution_count": 34,
   "metadata": {
    "execution": {
     "iopub.execute_input": "2021-12-31T05:15:09.958727Z",
     "iopub.status.busy": "2021-12-31T05:15:09.958432Z",
     "iopub.status.idle": "2021-12-31T05:15:13.124239Z",
     "shell.execute_reply": "2021-12-31T05:15:13.123182Z",
     "shell.execute_reply.started": "2021-12-31T05:15:09.958692Z"
    }
   },
   "outputs": [
    {
     "name": "stdout",
     "output_type": "stream",
     "text": [
      "[iter 0] loss=8.0761 val_loss=0.0000 scale=1.0000 norm=664.8434\n",
      "[iter 100] loss=7.2262 val_loss=0.0000 scale=2.0000 norm=426.5614\n",
      "[iter 200] loss=6.6318 val_loss=0.0000 scale=2.0000 norm=283.7399\n",
      "[iter 300] loss=6.3120 val_loss=0.0000 scale=2.0000 norm=233.4449\n",
      "[iter 400] loss=6.1132 val_loss=0.0000 scale=1.0000 norm=101.1570\n"
     ]
    },
    {
     "data": {
      "text/plain": [
       "NGBRegressor(random_state=RandomState(MT19937) at 0x7FDDE949F048, verbose=500)"
      ]
     },
     "execution_count": 34,
     "metadata": {},
     "output_type": "execute_result"
    }
   ],
   "source": [
    "ngb = NGBRegressor(random_state = 521, verbose = 500, n_estimators = 500)\n",
    "ngb.fit(x_train, y_train)"
   ]
  },
  {
   "cell_type": "code",
   "execution_count": 36,
   "metadata": {
    "execution": {
     "iopub.execute_input": "2021-12-31T05:15:29.794901Z",
     "iopub.status.busy": "2021-12-31T05:15:29.794641Z",
     "iopub.status.idle": "2021-12-31T05:15:29.899426Z",
     "shell.execute_reply": "2021-12-31T05:15:29.898436Z",
     "shell.execute_reply.started": "2021-12-31T05:15:29.794879Z"
    }
   },
   "outputs": [],
   "source": [
    "sample_submission['Body Mass (g)'] = ngb.predict(x_test)\n",
    "sample_submission.to_csv('./penguin_result_{}.csv'.format(datetime.now().strftime('%Y%m%d%H%M')), index=False)"
   ]
  },
  {
   "cell_type": "code",
   "execution_count": null,
   "metadata": {},
   "outputs": [],
   "source": []
  }
 ],
 "metadata": {
  "kernelspec": {
   "display_name": "Python 3",
   "language": "python",
   "name": "python3"
  },
  "language_info": {
   "codemirror_mode": {
    "name": "ipython",
    "version": 3
   },
   "file_extension": ".py",
   "mimetype": "text/x-python",
   "name": "python",
   "nbconvert_exporter": "python",
   "pygments_lexer": "ipython3",
   "version": "3.7.3"
  }
 },
 "nbformat": 4,
 "nbformat_minor": 4
}
