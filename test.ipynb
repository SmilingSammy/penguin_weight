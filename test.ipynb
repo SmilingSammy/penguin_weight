{
 "cells": [
  {
   "cell_type": "code",
   "execution_count": 1,
   "metadata": {
    "execution": {
     "iopub.execute_input": "2021-12-31T04:43:45.310235Z",
     "iopub.status.busy": "2021-12-31T04:43:45.309858Z",
     "iopub.status.idle": "2021-12-31T04:43:45.617367Z",
     "shell.execute_reply": "2021-12-31T04:43:45.616742Z",
     "shell.execute_reply.started": "2021-12-31T04:43:45.310171Z"
    }
   },
   "outputs": [],
   "source": [
    "import pandas as pd\n",
    "import numpy as np"
   ]
  },
  {
   "cell_type": "markdown",
   "metadata": {},
   "source": [
    "# 데이터"
   ]
  },
  {
   "cell_type": "code",
   "execution_count": 2,
   "metadata": {
    "execution": {
     "iopub.execute_input": "2021-12-31T04:43:45.619644Z",
     "iopub.status.busy": "2021-12-31T04:43:45.619263Z",
     "iopub.status.idle": "2021-12-31T04:43:45.643014Z",
     "shell.execute_reply": "2021-12-31T04:43:45.641659Z",
     "shell.execute_reply.started": "2021-12-31T04:43:45.619619Z"
    }
   },
   "outputs": [],
   "source": [
    "train = pd.read_csv('./dataset/train.csv')\n",
    "test = pd.read_csv('./dataset/test.csv')\n",
    "sample_submission = pd.read_csv('./dataset/sample_submission.csv')"
   ]
  },
  {
   "cell_type": "markdown",
   "metadata": {},
   "source": [
    "# EDA"
   ]
  },
  {
   "cell_type": "markdown",
   "metadata": {
    "heading_collapsed": "true"
   },
   "source": [
    "## train"
   ]
  },
  {
   "cell_type": "code",
   "execution_count": 3,
   "metadata": {
    "execution": {
     "iopub.execute_input": "2021-12-31T04:43:45.651612Z",
     "iopub.status.busy": "2021-12-31T04:43:45.646151Z",
     "iopub.status.idle": "2021-12-31T04:43:45.691508Z",
     "shell.execute_reply": "2021-12-31T04:43:45.690455Z",
     "shell.execute_reply.started": "2021-12-31T04:43:45.651530Z"
    }
   },
   "outputs": [
    {
     "data": {
      "text/html": [
       "<div>\n",
       "<style scoped>\n",
       "    .dataframe tbody tr th:only-of-type {\n",
       "        vertical-align: middle;\n",
       "    }\n",
       "\n",
       "    .dataframe tbody tr th {\n",
       "        vertical-align: top;\n",
       "    }\n",
       "\n",
       "    .dataframe thead th {\n",
       "        text-align: right;\n",
       "    }\n",
       "</style>\n",
       "<table border=\"1\" class=\"dataframe\">\n",
       "  <thead>\n",
       "    <tr style=\"text-align: right;\">\n",
       "      <th></th>\n",
       "      <th>id</th>\n",
       "      <th>Species</th>\n",
       "      <th>Island</th>\n",
       "      <th>Clutch Completion</th>\n",
       "      <th>Culmen Length (mm)</th>\n",
       "      <th>Culmen Depth (mm)</th>\n",
       "      <th>Flipper Length (mm)</th>\n",
       "      <th>Sex</th>\n",
       "      <th>Delta 15 N (o/oo)</th>\n",
       "      <th>Delta 13 C (o/oo)</th>\n",
       "      <th>Body Mass (g)</th>\n",
       "    </tr>\n",
       "  </thead>\n",
       "  <tbody>\n",
       "    <tr>\n",
       "      <th>0</th>\n",
       "      <td>0</td>\n",
       "      <td>Gentoo penguin (Pygoscelis papua)</td>\n",
       "      <td>Biscoe</td>\n",
       "      <td>Yes</td>\n",
       "      <td>50.0</td>\n",
       "      <td>15.3</td>\n",
       "      <td>220</td>\n",
       "      <td>MALE</td>\n",
       "      <td>8.30515</td>\n",
       "      <td>-25.19017</td>\n",
       "      <td>5550</td>\n",
       "    </tr>\n",
       "    <tr>\n",
       "      <th>1</th>\n",
       "      <td>1</td>\n",
       "      <td>Chinstrap penguin (Pygoscelis antarctica)</td>\n",
       "      <td>Dream</td>\n",
       "      <td>No</td>\n",
       "      <td>49.5</td>\n",
       "      <td>19.0</td>\n",
       "      <td>200</td>\n",
       "      <td>MALE</td>\n",
       "      <td>9.63074</td>\n",
       "      <td>-24.34684</td>\n",
       "      <td>3800</td>\n",
       "    </tr>\n",
       "  </tbody>\n",
       "</table>\n",
       "</div>"
      ],
      "text/plain": [
       "   id                                    Species  Island Clutch Completion  \\\n",
       "0   0          Gentoo penguin (Pygoscelis papua)  Biscoe               Yes   \n",
       "1   1  Chinstrap penguin (Pygoscelis antarctica)   Dream                No   \n",
       "\n",
       "   Culmen Length (mm)  Culmen Depth (mm)  Flipper Length (mm)   Sex  \\\n",
       "0                50.0               15.3                  220  MALE   \n",
       "1                49.5               19.0                  200  MALE   \n",
       "\n",
       "   Delta 15 N (o/oo)  Delta 13 C (o/oo)  Body Mass (g)  \n",
       "0            8.30515          -25.19017           5550  \n",
       "1            9.63074          -24.34684           3800  "
      ]
     },
     "execution_count": 3,
     "metadata": {},
     "output_type": "execute_result"
    }
   ],
   "source": [
    "train.head(2)"
   ]
  },
  {
   "cell_type": "code",
   "execution_count": 4,
   "metadata": {
    "execution": {
     "iopub.execute_input": "2021-12-31T04:43:45.696048Z",
     "iopub.status.busy": "2021-12-31T04:43:45.695658Z",
     "iopub.status.idle": "2021-12-31T04:43:45.704480Z",
     "shell.execute_reply": "2021-12-31T04:43:45.703403Z",
     "shell.execute_reply.started": "2021-12-31T04:43:45.696021Z"
    }
   },
   "outputs": [],
   "source": [
    "train.drop(columns='id', inplace=True)"
   ]
  },
  {
   "cell_type": "code",
   "execution_count": 5,
   "metadata": {
    "execution": {
     "iopub.execute_input": "2021-12-31T04:43:45.706217Z",
     "iopub.status.busy": "2021-12-31T04:43:45.705940Z",
     "iopub.status.idle": "2021-12-31T04:43:45.732718Z",
     "shell.execute_reply": "2021-12-31T04:43:45.730931Z",
     "shell.execute_reply.started": "2021-12-31T04:43:45.706194Z"
    }
   },
   "outputs": [
    {
     "name": "stdout",
     "output_type": "stream",
     "text": [
      "<class 'pandas.core.frame.DataFrame'>\n",
      "RangeIndex: 114 entries, 0 to 113\n",
      "Data columns (total 10 columns):\n",
      " #   Column               Non-Null Count  Dtype  \n",
      "---  ------               --------------  -----  \n",
      " 0   Species              114 non-null    object \n",
      " 1   Island               114 non-null    object \n",
      " 2   Clutch Completion    114 non-null    object \n",
      " 3   Culmen Length (mm)   114 non-null    float64\n",
      " 4   Culmen Depth (mm)    114 non-null    float64\n",
      " 5   Flipper Length (mm)  114 non-null    int64  \n",
      " 6   Sex                  111 non-null    object \n",
      " 7   Delta 15 N (o/oo)    111 non-null    float64\n",
      " 8   Delta 13 C (o/oo)    111 non-null    float64\n",
      " 9   Body Mass (g)        114 non-null    int64  \n",
      "dtypes: float64(4), int64(2), object(4)\n",
      "memory usage: 9.0+ KB\n"
     ]
    }
   ],
   "source": [
    "train.info()"
   ]
  },
  {
   "cell_type": "code",
   "execution_count": 6,
   "metadata": {
    "execution": {
     "iopub.execute_input": "2021-12-31T04:43:45.738091Z",
     "iopub.status.busy": "2021-12-31T04:43:45.736509Z",
     "iopub.status.idle": "2021-12-31T04:43:45.753837Z",
     "shell.execute_reply": "2021-12-31T04:43:45.752004Z",
     "shell.execute_reply.started": "2021-12-31T04:43:45.737293Z"
    }
   },
   "outputs": [
    {
     "data": {
      "text/plain": [
       "Sex                  3\n",
       "Delta 15 N (o/oo)    3\n",
       "Delta 13 C (o/oo)    3\n",
       "dtype: int64"
      ]
     },
     "execution_count": 6,
     "metadata": {},
     "output_type": "execute_result"
    }
   ],
   "source": [
    "# null features\n",
    "x = train.isnull().sum()\n",
    "x[x != 0]"
   ]
  },
  {
   "cell_type": "code",
   "execution_count": 7,
   "metadata": {
    "execution": {
     "iopub.execute_input": "2021-12-31T04:43:45.758579Z",
     "iopub.status.busy": "2021-12-31T04:43:45.756733Z",
     "iopub.status.idle": "2021-12-31T04:43:45.799226Z",
     "shell.execute_reply": "2021-12-31T04:43:45.797198Z",
     "shell.execute_reply.started": "2021-12-31T04:43:45.758533Z"
    }
   },
   "outputs": [
    {
     "data": {
      "text/html": [
       "<div>\n",
       "<style scoped>\n",
       "    .dataframe tbody tr th:only-of-type {\n",
       "        vertical-align: middle;\n",
       "    }\n",
       "\n",
       "    .dataframe tbody tr th {\n",
       "        vertical-align: top;\n",
       "    }\n",
       "\n",
       "    .dataframe thead th {\n",
       "        text-align: right;\n",
       "    }\n",
       "</style>\n",
       "<table border=\"1\" class=\"dataframe\">\n",
       "  <thead>\n",
       "    <tr style=\"text-align: right;\">\n",
       "      <th></th>\n",
       "      <th>Culmen Length (mm)</th>\n",
       "      <th>Culmen Depth (mm)</th>\n",
       "      <th>Flipper Length (mm)</th>\n",
       "      <th>Delta 15 N (o/oo)</th>\n",
       "      <th>Delta 13 C (o/oo)</th>\n",
       "      <th>Body Mass (g)</th>\n",
       "    </tr>\n",
       "  </thead>\n",
       "  <tbody>\n",
       "    <tr>\n",
       "      <th>count</th>\n",
       "      <td>114.000000</td>\n",
       "      <td>114.000000</td>\n",
       "      <td>114.000000</td>\n",
       "      <td>111.000000</td>\n",
       "      <td>111.000000</td>\n",
       "      <td>114.000000</td>\n",
       "    </tr>\n",
       "    <tr>\n",
       "      <th>mean</th>\n",
       "      <td>44.613158</td>\n",
       "      <td>17.014912</td>\n",
       "      <td>203.052632</td>\n",
       "      <td>8.737634</td>\n",
       "      <td>-25.723051</td>\n",
       "      <td>4327.850877</td>\n",
       "    </tr>\n",
       "    <tr>\n",
       "      <th>std</th>\n",
       "      <td>5.321829</td>\n",
       "      <td>1.941363</td>\n",
       "      <td>14.653425</td>\n",
       "      <td>0.567698</td>\n",
       "      <td>0.859786</td>\n",
       "      <td>781.766484</td>\n",
       "    </tr>\n",
       "    <tr>\n",
       "      <th>min</th>\n",
       "      <td>33.500000</td>\n",
       "      <td>13.200000</td>\n",
       "      <td>174.000000</td>\n",
       "      <td>7.632200</td>\n",
       "      <td>-27.018540</td>\n",
       "      <td>2700.000000</td>\n",
       "    </tr>\n",
       "    <tr>\n",
       "      <th>25%</th>\n",
       "      <td>40.325000</td>\n",
       "      <td>15.225000</td>\n",
       "      <td>190.000000</td>\n",
       "      <td>8.272585</td>\n",
       "      <td>-26.434025</td>\n",
       "      <td>3675.000000</td>\n",
       "    </tr>\n",
       "    <tr>\n",
       "      <th>50%</th>\n",
       "      <td>45.200000</td>\n",
       "      <td>17.250000</td>\n",
       "      <td>199.000000</td>\n",
       "      <td>8.632590</td>\n",
       "      <td>-25.955410</td>\n",
       "      <td>4250.000000</td>\n",
       "    </tr>\n",
       "    <tr>\n",
       "      <th>75%</th>\n",
       "      <td>49.075000</td>\n",
       "      <td>18.600000</td>\n",
       "      <td>216.000000</td>\n",
       "      <td>9.264635</td>\n",
       "      <td>-25.005945</td>\n",
       "      <td>4850.000000</td>\n",
       "    </tr>\n",
       "    <tr>\n",
       "      <th>max</th>\n",
       "      <td>55.100000</td>\n",
       "      <td>21.100000</td>\n",
       "      <td>231.000000</td>\n",
       "      <td>10.025440</td>\n",
       "      <td>-24.102550</td>\n",
       "      <td>6300.000000</td>\n",
       "    </tr>\n",
       "  </tbody>\n",
       "</table>\n",
       "</div>"
      ],
      "text/plain": [
       "       Culmen Length (mm)  Culmen Depth (mm)  Flipper Length (mm)  \\\n",
       "count          114.000000         114.000000           114.000000   \n",
       "mean            44.613158          17.014912           203.052632   \n",
       "std              5.321829           1.941363            14.653425   \n",
       "min             33.500000          13.200000           174.000000   \n",
       "25%             40.325000          15.225000           190.000000   \n",
       "50%             45.200000          17.250000           199.000000   \n",
       "75%             49.075000          18.600000           216.000000   \n",
       "max             55.100000          21.100000           231.000000   \n",
       "\n",
       "       Delta 15 N (o/oo)  Delta 13 C (o/oo)  Body Mass (g)  \n",
       "count         111.000000         111.000000     114.000000  \n",
       "mean            8.737634         -25.723051    4327.850877  \n",
       "std             0.567698           0.859786     781.766484  \n",
       "min             7.632200         -27.018540    2700.000000  \n",
       "25%             8.272585         -26.434025    3675.000000  \n",
       "50%             8.632590         -25.955410    4250.000000  \n",
       "75%             9.264635         -25.005945    4850.000000  \n",
       "max            10.025440         -24.102550    6300.000000  "
      ]
     },
     "execution_count": 7,
     "metadata": {},
     "output_type": "execute_result"
    }
   ],
   "source": [
    "train.describe()"
   ]
  },
  {
   "cell_type": "markdown",
   "metadata": {
    "heading_collapsed": "true"
   },
   "source": [
    "## test"
   ]
  },
  {
   "cell_type": "code",
   "execution_count": 8,
   "metadata": {
    "execution": {
     "iopub.execute_input": "2021-12-31T04:43:45.803063Z",
     "iopub.status.busy": "2021-12-31T04:43:45.802731Z",
     "iopub.status.idle": "2021-12-31T04:43:45.829228Z",
     "shell.execute_reply": "2021-12-31T04:43:45.828268Z",
     "shell.execute_reply.started": "2021-12-31T04:43:45.803038Z"
    }
   },
   "outputs": [
    {
     "data": {
      "text/html": [
       "<div>\n",
       "<style scoped>\n",
       "    .dataframe tbody tr th:only-of-type {\n",
       "        vertical-align: middle;\n",
       "    }\n",
       "\n",
       "    .dataframe tbody tr th {\n",
       "        vertical-align: top;\n",
       "    }\n",
       "\n",
       "    .dataframe thead th {\n",
       "        text-align: right;\n",
       "    }\n",
       "</style>\n",
       "<table border=\"1\" class=\"dataframe\">\n",
       "  <thead>\n",
       "    <tr style=\"text-align: right;\">\n",
       "      <th></th>\n",
       "      <th>id</th>\n",
       "      <th>Species</th>\n",
       "      <th>Island</th>\n",
       "      <th>Clutch Completion</th>\n",
       "      <th>Culmen Length (mm)</th>\n",
       "      <th>Culmen Depth (mm)</th>\n",
       "      <th>Flipper Length (mm)</th>\n",
       "      <th>Sex</th>\n",
       "      <th>Delta 15 N (o/oo)</th>\n",
       "      <th>Delta 13 C (o/oo)</th>\n",
       "    </tr>\n",
       "  </thead>\n",
       "  <tbody>\n",
       "    <tr>\n",
       "      <th>0</th>\n",
       "      <td>0</td>\n",
       "      <td>Chinstrap penguin (Pygoscelis antarctica)</td>\n",
       "      <td>Dream</td>\n",
       "      <td>Yes</td>\n",
       "      <td>52.0</td>\n",
       "      <td>20.7</td>\n",
       "      <td>210.0</td>\n",
       "      <td>MALE</td>\n",
       "      <td>9.43146</td>\n",
       "      <td>-24.68440</td>\n",
       "    </tr>\n",
       "    <tr>\n",
       "      <th>1</th>\n",
       "      <td>1</td>\n",
       "      <td>Gentoo penguin (Pygoscelis papua)</td>\n",
       "      <td>Biscoe</td>\n",
       "      <td>Yes</td>\n",
       "      <td>55.9</td>\n",
       "      <td>17.0</td>\n",
       "      <td>228.0</td>\n",
       "      <td>MALE</td>\n",
       "      <td>8.31180</td>\n",
       "      <td>-26.35425</td>\n",
       "    </tr>\n",
       "  </tbody>\n",
       "</table>\n",
       "</div>"
      ],
      "text/plain": [
       "   id                                    Species  Island Clutch Completion  \\\n",
       "0   0  Chinstrap penguin (Pygoscelis antarctica)   Dream               Yes   \n",
       "1   1          Gentoo penguin (Pygoscelis papua)  Biscoe               Yes   \n",
       "\n",
       "   Culmen Length (mm)  Culmen Depth (mm)  Flipper Length (mm)   Sex  \\\n",
       "0                52.0               20.7                210.0  MALE   \n",
       "1                55.9               17.0                228.0  MALE   \n",
       "\n",
       "   Delta 15 N (o/oo)  Delta 13 C (o/oo)  \n",
       "0            9.43146          -24.68440  \n",
       "1            8.31180          -26.35425  "
      ]
     },
     "execution_count": 8,
     "metadata": {},
     "output_type": "execute_result"
    }
   ],
   "source": [
    "test.head(2)"
   ]
  },
  {
   "cell_type": "code",
   "execution_count": 9,
   "metadata": {
    "execution": {
     "iopub.execute_input": "2021-12-31T04:43:45.834265Z",
     "iopub.status.busy": "2021-12-31T04:43:45.833632Z",
     "iopub.status.idle": "2021-12-31T04:43:45.855641Z",
     "shell.execute_reply": "2021-12-31T04:43:45.854677Z",
     "shell.execute_reply.started": "2021-12-31T04:43:45.834231Z"
    }
   },
   "outputs": [
    {
     "name": "stdout",
     "output_type": "stream",
     "text": [
      "<class 'pandas.core.frame.DataFrame'>\n",
      "RangeIndex: 228 entries, 0 to 227\n",
      "Data columns (total 10 columns):\n",
      " #   Column               Non-Null Count  Dtype  \n",
      "---  ------               --------------  -----  \n",
      " 0   id                   228 non-null    int64  \n",
      " 1   Species              228 non-null    object \n",
      " 2   Island               228 non-null    object \n",
      " 3   Clutch Completion    228 non-null    object \n",
      " 4   Culmen Length (mm)   228 non-null    float64\n",
      " 5   Culmen Depth (mm)    228 non-null    float64\n",
      " 6   Flipper Length (mm)  228 non-null    float64\n",
      " 7   Sex                  222 non-null    object \n",
      " 8   Delta 15 N (o/oo)    219 non-null    float64\n",
      " 9   Delta 13 C (o/oo)    220 non-null    float64\n",
      "dtypes: float64(5), int64(1), object(4)\n",
      "memory usage: 17.9+ KB\n"
     ]
    }
   ],
   "source": [
    "test.info()"
   ]
  },
  {
   "cell_type": "code",
   "execution_count": 10,
   "metadata": {
    "execution": {
     "iopub.execute_input": "2021-12-31T04:43:45.857159Z",
     "iopub.status.busy": "2021-12-31T04:43:45.856874Z",
     "iopub.status.idle": "2021-12-31T04:43:45.873291Z",
     "shell.execute_reply": "2021-12-31T04:43:45.872284Z",
     "shell.execute_reply.started": "2021-12-31T04:43:45.857136Z"
    }
   },
   "outputs": [
    {
     "data": {
      "text/plain": [
       "Sex                  6\n",
       "Delta 15 N (o/oo)    9\n",
       "Delta 13 C (o/oo)    8\n",
       "dtype: int64"
      ]
     },
     "execution_count": 10,
     "metadata": {},
     "output_type": "execute_result"
    }
   ],
   "source": [
    "# null features\n",
    "x = test.isnull().sum()\n",
    "x[x != 0]"
   ]
  },
  {
   "cell_type": "markdown",
   "metadata": {},
   "source": [
    "## Features"
   ]
  },
  {
   "cell_type": "markdown",
   "metadata": {
    "heading_collapsed": "true"
   },
   "source": [
    "### Species"
   ]
  },
  {
   "cell_type": "code",
   "execution_count": 11,
   "metadata": {
    "execution": {
     "iopub.execute_input": "2021-12-31T04:43:45.875020Z",
     "iopub.status.busy": "2021-12-31T04:43:45.874682Z",
     "iopub.status.idle": "2021-12-31T04:43:45.887836Z",
     "shell.execute_reply": "2021-12-31T04:43:45.886923Z",
     "shell.execute_reply.started": "2021-12-31T04:43:45.874981Z"
    }
   },
   "outputs": [
    {
     "data": {
      "text/plain": [
       "Gentoo penguin (Pygoscelis papua)            48\n",
       "Adelie Penguin (Pygoscelis adeliae)          41\n",
       "Chinstrap penguin (Pygoscelis antarctica)    25\n",
       "Name: Species, dtype: int64"
      ]
     },
     "execution_count": 11,
     "metadata": {},
     "output_type": "execute_result"
    }
   ],
   "source": [
    "train['Species'].value_counts()"
   ]
  },
  {
   "cell_type": "code",
   "execution_count": 12,
   "metadata": {
    "execution": {
     "iopub.execute_input": "2021-12-31T04:43:45.890977Z",
     "iopub.status.busy": "2021-12-31T04:43:45.890630Z",
     "iopub.status.idle": "2021-12-31T04:43:45.928551Z",
     "shell.execute_reply": "2021-12-31T04:43:45.925547Z",
     "shell.execute_reply.started": "2021-12-31T04:43:45.890952Z"
    }
   },
   "outputs": [
    {
     "data": {
      "text/html": [
       "<div>\n",
       "<style scoped>\n",
       "    .dataframe tbody tr th:only-of-type {\n",
       "        vertical-align: middle;\n",
       "    }\n",
       "\n",
       "    .dataframe tbody tr th {\n",
       "        vertical-align: top;\n",
       "    }\n",
       "\n",
       "    .dataframe thead th {\n",
       "        text-align: right;\n",
       "    }\n",
       "</style>\n",
       "<table border=\"1\" class=\"dataframe\">\n",
       "  <thead>\n",
       "    <tr style=\"text-align: right;\">\n",
       "      <th></th>\n",
       "      <th>count</th>\n",
       "      <th>mean</th>\n",
       "      <th>std</th>\n",
       "      <th>min</th>\n",
       "      <th>25%</th>\n",
       "      <th>50%</th>\n",
       "      <th>75%</th>\n",
       "      <th>max</th>\n",
       "    </tr>\n",
       "    <tr>\n",
       "      <th>Species</th>\n",
       "      <th></th>\n",
       "      <th></th>\n",
       "      <th></th>\n",
       "      <th></th>\n",
       "      <th></th>\n",
       "      <th></th>\n",
       "      <th></th>\n",
       "      <th></th>\n",
       "    </tr>\n",
       "  </thead>\n",
       "  <tbody>\n",
       "    <tr>\n",
       "      <th>Adelie Penguin (Pygoscelis adeliae)</th>\n",
       "      <td>41.0</td>\n",
       "      <td>3801.219512</td>\n",
       "      <td>435.601281</td>\n",
       "      <td>3000.0</td>\n",
       "      <td>3475.0</td>\n",
       "      <td>3750.0</td>\n",
       "      <td>4100.0</td>\n",
       "      <td>4725.0</td>\n",
       "    </tr>\n",
       "    <tr>\n",
       "      <th>Chinstrap penguin (Pygoscelis antarctica)</th>\n",
       "      <td>25.0</td>\n",
       "      <td>3756.000000</td>\n",
       "      <td>419.155898</td>\n",
       "      <td>2700.0</td>\n",
       "      <td>3500.0</td>\n",
       "      <td>3675.0</td>\n",
       "      <td>3950.0</td>\n",
       "      <td>4550.0</td>\n",
       "    </tr>\n",
       "    <tr>\n",
       "      <th>Gentoo penguin (Pygoscelis papua)</th>\n",
       "      <td>48.0</td>\n",
       "      <td>5075.520833</td>\n",
       "      <td>481.036381</td>\n",
       "      <td>4150.0</td>\n",
       "      <td>4700.0</td>\n",
       "      <td>5000.0</td>\n",
       "      <td>5500.0</td>\n",
       "      <td>6300.0</td>\n",
       "    </tr>\n",
       "  </tbody>\n",
       "</table>\n",
       "</div>"
      ],
      "text/plain": [
       "                                           count         mean         std  \\\n",
       "Species                                                                     \n",
       "Adelie Penguin (Pygoscelis adeliae)         41.0  3801.219512  435.601281   \n",
       "Chinstrap penguin (Pygoscelis antarctica)   25.0  3756.000000  419.155898   \n",
       "Gentoo penguin (Pygoscelis papua)           48.0  5075.520833  481.036381   \n",
       "\n",
       "                                              min     25%     50%     75%  \\\n",
       "Species                                                                     \n",
       "Adelie Penguin (Pygoscelis adeliae)        3000.0  3475.0  3750.0  4100.0   \n",
       "Chinstrap penguin (Pygoscelis antarctica)  2700.0  3500.0  3675.0  3950.0   \n",
       "Gentoo penguin (Pygoscelis papua)          4150.0  4700.0  5000.0  5500.0   \n",
       "\n",
       "                                              max  \n",
       "Species                                            \n",
       "Adelie Penguin (Pygoscelis adeliae)        4725.0  \n",
       "Chinstrap penguin (Pygoscelis antarctica)  4550.0  \n",
       "Gentoo penguin (Pygoscelis papua)          6300.0  "
      ]
     },
     "execution_count": 12,
     "metadata": {},
     "output_type": "execute_result"
    }
   ],
   "source": [
    "train.groupby('Species')['Body Mass (g)'].describe()"
   ]
  },
  {
   "cell_type": "markdown",
   "metadata": {
    "heading_collapsed": "true"
   },
   "source": [
    "### Island"
   ]
  },
  {
   "cell_type": "code",
   "execution_count": 13,
   "metadata": {
    "execution": {
     "iopub.execute_input": "2021-12-31T04:43:45.930092Z",
     "iopub.status.busy": "2021-12-31T04:43:45.929705Z",
     "iopub.status.idle": "2021-12-31T04:43:45.939762Z",
     "shell.execute_reply": "2021-12-31T04:43:45.938203Z",
     "shell.execute_reply.started": "2021-12-31T04:43:45.930067Z"
    }
   },
   "outputs": [
    {
     "data": {
      "text/plain": [
       "Biscoe       57\n",
       "Dream        44\n",
       "Torgersen    13\n",
       "Name: Island, dtype: int64"
      ]
     },
     "execution_count": 13,
     "metadata": {},
     "output_type": "execute_result"
    }
   ],
   "source": [
    "train['Island'].value_counts()"
   ]
  },
  {
   "cell_type": "code",
   "execution_count": 14,
   "metadata": {
    "execution": {
     "iopub.execute_input": "2021-12-31T04:43:45.942825Z",
     "iopub.status.busy": "2021-12-31T04:43:45.941905Z",
     "iopub.status.idle": "2021-12-31T04:43:45.993792Z",
     "shell.execute_reply": "2021-12-31T04:43:45.991635Z",
     "shell.execute_reply.started": "2021-12-31T04:43:45.942780Z"
    }
   },
   "outputs": [
    {
     "data": {
      "text/html": [
       "<div>\n",
       "<style scoped>\n",
       "    .dataframe tbody tr th:only-of-type {\n",
       "        vertical-align: middle;\n",
       "    }\n",
       "\n",
       "    .dataframe tbody tr th {\n",
       "        vertical-align: top;\n",
       "    }\n",
       "\n",
       "    .dataframe thead th {\n",
       "        text-align: right;\n",
       "    }\n",
       "</style>\n",
       "<table border=\"1\" class=\"dataframe\">\n",
       "  <thead>\n",
       "    <tr style=\"text-align: right;\">\n",
       "      <th></th>\n",
       "      <th>count</th>\n",
       "      <th>mean</th>\n",
       "      <th>std</th>\n",
       "      <th>min</th>\n",
       "      <th>25%</th>\n",
       "      <th>50%</th>\n",
       "      <th>75%</th>\n",
       "      <th>max</th>\n",
       "    </tr>\n",
       "    <tr>\n",
       "      <th>Island</th>\n",
       "      <th></th>\n",
       "      <th></th>\n",
       "      <th></th>\n",
       "      <th></th>\n",
       "      <th></th>\n",
       "      <th></th>\n",
       "      <th></th>\n",
       "      <th></th>\n",
       "    </tr>\n",
       "  </thead>\n",
       "  <tbody>\n",
       "    <tr>\n",
       "      <th>Biscoe</th>\n",
       "      <td>57.0</td>\n",
       "      <td>4878.947368</td>\n",
       "      <td>664.145354</td>\n",
       "      <td>3075.0</td>\n",
       "      <td>4575.0</td>\n",
       "      <td>4850.0</td>\n",
       "      <td>5350.0</td>\n",
       "      <td>6300.0</td>\n",
       "    </tr>\n",
       "    <tr>\n",
       "      <th>Dream</th>\n",
       "      <td>44.0</td>\n",
       "      <td>3764.772727</td>\n",
       "      <td>432.183416</td>\n",
       "      <td>2700.0</td>\n",
       "      <td>3450.0</td>\n",
       "      <td>3700.0</td>\n",
       "      <td>3987.5</td>\n",
       "      <td>4650.0</td>\n",
       "    </tr>\n",
       "    <tr>\n",
       "      <th>Torgersen</th>\n",
       "      <td>13.0</td>\n",
       "      <td>3817.307692</td>\n",
       "      <td>373.940812</td>\n",
       "      <td>3275.0</td>\n",
       "      <td>3600.0</td>\n",
       "      <td>3700.0</td>\n",
       "      <td>3900.0</td>\n",
       "      <td>4700.0</td>\n",
       "    </tr>\n",
       "  </tbody>\n",
       "</table>\n",
       "</div>"
      ],
      "text/plain": [
       "           count         mean         std     min     25%     50%     75%  \\\n",
       "Island                                                                      \n",
       "Biscoe      57.0  4878.947368  664.145354  3075.0  4575.0  4850.0  5350.0   \n",
       "Dream       44.0  3764.772727  432.183416  2700.0  3450.0  3700.0  3987.5   \n",
       "Torgersen   13.0  3817.307692  373.940812  3275.0  3600.0  3700.0  3900.0   \n",
       "\n",
       "              max  \n",
       "Island             \n",
       "Biscoe     6300.0  \n",
       "Dream      4650.0  \n",
       "Torgersen  4700.0  "
      ]
     },
     "execution_count": 14,
     "metadata": {},
     "output_type": "execute_result"
    }
   ],
   "source": [
    "train.groupby('Island')['Body Mass (g)'].describe()"
   ]
  },
  {
   "cell_type": "markdown",
   "metadata": {
    "heading_collapsed": "true"
   },
   "source": [
    "### Clutch Completion"
   ]
  },
  {
   "cell_type": "code",
   "execution_count": 15,
   "metadata": {
    "execution": {
     "iopub.execute_input": "2021-12-31T04:43:45.995989Z",
     "iopub.status.busy": "2021-12-31T04:43:45.995715Z",
     "iopub.status.idle": "2021-12-31T04:43:46.004119Z",
     "shell.execute_reply": "2021-12-31T04:43:46.003151Z",
     "shell.execute_reply.started": "2021-12-31T04:43:45.995967Z"
    }
   },
   "outputs": [
    {
     "data": {
      "text/plain": [
       "Yes    102\n",
       "No      12\n",
       "Name: Clutch Completion, dtype: int64"
      ]
     },
     "execution_count": 15,
     "metadata": {},
     "output_type": "execute_result"
    }
   ],
   "source": [
    "train['Clutch Completion'].value_counts()"
   ]
  },
  {
   "cell_type": "code",
   "execution_count": 16,
   "metadata": {
    "execution": {
     "iopub.execute_input": "2021-12-31T04:43:46.006140Z",
     "iopub.status.busy": "2021-12-31T04:43:46.005795Z",
     "iopub.status.idle": "2021-12-31T04:43:46.039517Z",
     "shell.execute_reply": "2021-12-31T04:43:46.038945Z",
     "shell.execute_reply.started": "2021-12-31T04:43:46.006117Z"
    }
   },
   "outputs": [
    {
     "data": {
      "text/html": [
       "<div>\n",
       "<style scoped>\n",
       "    .dataframe tbody tr th:only-of-type {\n",
       "        vertical-align: middle;\n",
       "    }\n",
       "\n",
       "    .dataframe tbody tr th {\n",
       "        vertical-align: top;\n",
       "    }\n",
       "\n",
       "    .dataframe thead th {\n",
       "        text-align: right;\n",
       "    }\n",
       "</style>\n",
       "<table border=\"1\" class=\"dataframe\">\n",
       "  <thead>\n",
       "    <tr style=\"text-align: right;\">\n",
       "      <th></th>\n",
       "      <th>count</th>\n",
       "      <th>mean</th>\n",
       "      <th>std</th>\n",
       "      <th>min</th>\n",
       "      <th>25%</th>\n",
       "      <th>50%</th>\n",
       "      <th>75%</th>\n",
       "      <th>max</th>\n",
       "    </tr>\n",
       "    <tr>\n",
       "      <th>Clutch Completion</th>\n",
       "      <th></th>\n",
       "      <th></th>\n",
       "      <th></th>\n",
       "      <th></th>\n",
       "      <th></th>\n",
       "      <th></th>\n",
       "      <th></th>\n",
       "      <th></th>\n",
       "    </tr>\n",
       "  </thead>\n",
       "  <tbody>\n",
       "    <tr>\n",
       "      <th>No</th>\n",
       "      <td>12.0</td>\n",
       "      <td>4116.666667</td>\n",
       "      <td>890.692614</td>\n",
       "      <td>2700.0</td>\n",
       "      <td>3475.00</td>\n",
       "      <td>4025.0</td>\n",
       "      <td>4537.5</td>\n",
       "      <td>5700.0</td>\n",
       "    </tr>\n",
       "    <tr>\n",
       "      <th>Yes</th>\n",
       "      <td>102.0</td>\n",
       "      <td>4352.696078</td>\n",
       "      <td>769.055828</td>\n",
       "      <td>3000.0</td>\n",
       "      <td>3681.25</td>\n",
       "      <td>4275.0</td>\n",
       "      <td>4887.5</td>\n",
       "      <td>6300.0</td>\n",
       "    </tr>\n",
       "  </tbody>\n",
       "</table>\n",
       "</div>"
      ],
      "text/plain": [
       "                   count         mean         std     min      25%     50%  \\\n",
       "Clutch Completion                                                            \n",
       "No                  12.0  4116.666667  890.692614  2700.0  3475.00  4025.0   \n",
       "Yes                102.0  4352.696078  769.055828  3000.0  3681.25  4275.0   \n",
       "\n",
       "                      75%     max  \n",
       "Clutch Completion                  \n",
       "No                 4537.5  5700.0  \n",
       "Yes                4887.5  6300.0  "
      ]
     },
     "execution_count": 16,
     "metadata": {},
     "output_type": "execute_result"
    }
   ],
   "source": [
    "train.groupby('Clutch Completion')['Body Mass (g)'].describe()"
   ]
  },
  {
   "cell_type": "markdown",
   "metadata": {
    "heading_collapsed": "true"
   },
   "source": [
    "### Sex"
   ]
  },
  {
   "cell_type": "code",
   "execution_count": 17,
   "metadata": {
    "execution": {
     "iopub.execute_input": "2021-12-31T04:43:46.041181Z",
     "iopub.status.busy": "2021-12-31T04:43:46.040891Z",
     "iopub.status.idle": "2021-12-31T04:43:46.050459Z",
     "shell.execute_reply": "2021-12-31T04:43:46.049399Z",
     "shell.execute_reply.started": "2021-12-31T04:43:46.041142Z"
    }
   },
   "outputs": [
    {
     "data": {
      "text/plain": [
       "MALE      56\n",
       "FEMALE    55\n",
       "Name: Sex, dtype: int64"
      ]
     },
     "execution_count": 17,
     "metadata": {},
     "output_type": "execute_result"
    }
   ],
   "source": [
    "train['Sex'].value_counts()"
   ]
  },
  {
   "cell_type": "code",
   "execution_count": 18,
   "metadata": {
    "execution": {
     "iopub.execute_input": "2021-12-31T04:43:46.052323Z",
     "iopub.status.busy": "2021-12-31T04:43:46.051803Z",
     "iopub.status.idle": "2021-12-31T04:43:46.088954Z",
     "shell.execute_reply": "2021-12-31T04:43:46.088119Z",
     "shell.execute_reply.started": "2021-12-31T04:43:46.052274Z"
    }
   },
   "outputs": [
    {
     "data": {
      "text/html": [
       "<div>\n",
       "<style scoped>\n",
       "    .dataframe tbody tr th:only-of-type {\n",
       "        vertical-align: middle;\n",
       "    }\n",
       "\n",
       "    .dataframe tbody tr th {\n",
       "        vertical-align: top;\n",
       "    }\n",
       "\n",
       "    .dataframe thead th {\n",
       "        text-align: right;\n",
       "    }\n",
       "</style>\n",
       "<table border=\"1\" class=\"dataframe\">\n",
       "  <thead>\n",
       "    <tr style=\"text-align: right;\">\n",
       "      <th></th>\n",
       "      <th>count</th>\n",
       "      <th>mean</th>\n",
       "      <th>std</th>\n",
       "      <th>min</th>\n",
       "      <th>25%</th>\n",
       "      <th>50%</th>\n",
       "      <th>75%</th>\n",
       "      <th>max</th>\n",
       "    </tr>\n",
       "    <tr>\n",
       "      <th>Sex</th>\n",
       "      <th></th>\n",
       "      <th></th>\n",
       "      <th></th>\n",
       "      <th></th>\n",
       "      <th></th>\n",
       "      <th></th>\n",
       "      <th></th>\n",
       "      <th></th>\n",
       "    </tr>\n",
       "  </thead>\n",
       "  <tbody>\n",
       "    <tr>\n",
       "      <th>FEMALE</th>\n",
       "      <td>55.0</td>\n",
       "      <td>4000.909091</td>\n",
       "      <td>654.877774</td>\n",
       "      <td>2700.0</td>\n",
       "      <td>3475.0</td>\n",
       "      <td>3750.0</td>\n",
       "      <td>4700.0</td>\n",
       "      <td>5200.0</td>\n",
       "    </tr>\n",
       "    <tr>\n",
       "      <th>MALE</th>\n",
       "      <td>56.0</td>\n",
       "      <td>4659.821429</td>\n",
       "      <td>774.767980</td>\n",
       "      <td>3250.0</td>\n",
       "      <td>3950.0</td>\n",
       "      <td>4575.0</td>\n",
       "      <td>5362.5</td>\n",
       "      <td>6300.0</td>\n",
       "    </tr>\n",
       "  </tbody>\n",
       "</table>\n",
       "</div>"
      ],
      "text/plain": [
       "        count         mean         std     min     25%     50%     75%     max\n",
       "Sex                                                                           \n",
       "FEMALE   55.0  4000.909091  654.877774  2700.0  3475.0  3750.0  4700.0  5200.0\n",
       "MALE     56.0  4659.821429  774.767980  3250.0  3950.0  4575.0  5362.5  6300.0"
      ]
     },
     "execution_count": 18,
     "metadata": {},
     "output_type": "execute_result"
    }
   ],
   "source": [
    "train.groupby('Sex')['Body Mass (g)'].describe()"
   ]
  },
  {
   "cell_type": "markdown",
   "metadata": {
    "heading_collapsed": "true"
   },
   "source": [
    "### Continuos correlation"
   ]
  },
  {
   "cell_type": "code",
   "execution_count": 19,
   "metadata": {
    "execution": {
     "iopub.execute_input": "2021-12-31T04:43:46.090930Z",
     "iopub.status.busy": "2021-12-31T04:43:46.090160Z",
     "iopub.status.idle": "2021-12-31T04:43:46.106251Z",
     "shell.execute_reply": "2021-12-31T04:43:46.104444Z",
     "shell.execute_reply.started": "2021-12-31T04:43:46.090896Z"
    }
   },
   "outputs": [
    {
     "data": {
      "text/plain": [
       "Culmen Length (mm)     0.572063\n",
       "Culmen Depth (mm)     -0.490643\n",
       "Flipper Length (mm)    0.864814\n",
       "Delta 15 N (o/oo)     -0.548678\n",
       "Delta 13 C (o/oo)     -0.468425\n",
       "Body Mass (g)          1.000000\n",
       "Name: Body Mass (g), dtype: float64"
      ]
     },
     "execution_count": 19,
     "metadata": {},
     "output_type": "execute_result"
    }
   ],
   "source": [
    "train.corr()['Body Mass (g)']"
   ]
  },
  {
   "cell_type": "code",
   "execution_count": 20,
   "metadata": {
    "execution": {
     "iopub.execute_input": "2021-12-31T04:43:46.108031Z",
     "iopub.status.busy": "2021-12-31T04:43:46.107557Z",
     "iopub.status.idle": "2021-12-31T04:43:46.114478Z",
     "shell.execute_reply": "2021-12-31T04:43:46.113603Z",
     "shell.execute_reply.started": "2021-12-31T04:43:46.107999Z"
    }
   },
   "outputs": [],
   "source": [
    "numeric_cols = list(train.corr()['Body Mass (g)'].keys())[:-1]"
   ]
  },
  {
   "cell_type": "code",
   "execution_count": 21,
   "metadata": {
    "execution": {
     "iopub.execute_input": "2021-12-31T04:43:46.121391Z",
     "iopub.status.busy": "2021-12-31T04:43:46.120510Z",
     "iopub.status.idle": "2021-12-31T04:43:46.131543Z",
     "shell.execute_reply": "2021-12-31T04:43:46.130158Z",
     "shell.execute_reply.started": "2021-12-31T04:43:46.121323Z"
    }
   },
   "outputs": [
    {
     "data": {
      "text/plain": [
       "['Culmen Length (mm)',\n",
       " 'Culmen Depth (mm)',\n",
       " 'Flipper Length (mm)',\n",
       " 'Delta 15 N (o/oo)',\n",
       " 'Delta 13 C (o/oo)']"
      ]
     },
     "execution_count": 21,
     "metadata": {},
     "output_type": "execute_result"
    }
   ],
   "source": [
    "numeric_cols"
   ]
  },
  {
   "cell_type": "markdown",
   "metadata": {
    "heading_collapsed": "true"
   },
   "source": [
    "#### scaling"
   ]
  },
  {
   "cell_type": "code",
   "execution_count": 22,
   "metadata": {
    "execution": {
     "iopub.execute_input": "2021-12-31T04:43:46.133237Z",
     "iopub.status.busy": "2021-12-31T04:43:46.132998Z",
     "iopub.status.idle": "2021-12-31T04:43:46.650830Z",
     "shell.execute_reply": "2021-12-31T04:43:46.650211Z",
     "shell.execute_reply.started": "2021-12-31T04:43:46.133214Z"
    }
   },
   "outputs": [],
   "source": [
    "from sklearn.preprocessing import StandardScaler"
   ]
  },
  {
   "cell_type": "code",
   "execution_count": 23,
   "metadata": {
    "execution": {
     "iopub.execute_input": "2021-12-31T04:43:46.658881Z",
     "iopub.status.busy": "2021-12-31T04:43:46.658485Z",
     "iopub.status.idle": "2021-12-31T04:43:46.679063Z",
     "shell.execute_reply": "2021-12-31T04:43:46.678005Z",
     "shell.execute_reply.started": "2021-12-31T04:43:46.658855Z"
    }
   },
   "outputs": [],
   "source": [
    "scaler = StandardScaler()\n",
    "train[numeric_cols] = scaler.fit_transform(train[numeric_cols])"
   ]
  },
  {
   "cell_type": "markdown",
   "metadata": {
    "heading_collapsed": "true"
   },
   "source": [
    "### object variable"
   ]
  },
  {
   "cell_type": "code",
   "execution_count": 24,
   "metadata": {
    "execution": {
     "iopub.execute_input": "2021-12-31T04:43:46.682293Z",
     "iopub.status.busy": "2021-12-31T04:43:46.681561Z",
     "iopub.status.idle": "2021-12-31T04:43:46.701673Z",
     "shell.execute_reply": "2021-12-31T04:43:46.700705Z",
     "shell.execute_reply.started": "2021-12-31T04:43:46.682247Z"
    }
   },
   "outputs": [],
   "source": [
    "train = pd.get_dummies(train, columns=['Species', 'Island', 'Sex'])"
   ]
  },
  {
   "cell_type": "code",
   "execution_count": 25,
   "metadata": {
    "execution": {
     "iopub.execute_input": "2021-12-31T04:43:46.703912Z",
     "iopub.status.busy": "2021-12-31T04:43:46.703422Z",
     "iopub.status.idle": "2021-12-31T04:43:46.715080Z",
     "shell.execute_reply": "2021-12-31T04:43:46.714013Z",
     "shell.execute_reply.started": "2021-12-31T04:43:46.703870Z"
    }
   },
   "outputs": [],
   "source": [
    "train['Clutch Completion'] = train['Clutch Completion'].eq('Yes').mul(1)"
   ]
  },
  {
   "cell_type": "markdown",
   "metadata": {
    "heading_collapsed": "true"
   },
   "source": [
    "### fill na"
   ]
  },
  {
   "cell_type": "code",
   "execution_count": 32,
   "metadata": {
    "execution": {
     "iopub.execute_input": "2021-12-31T04:48:00.057245Z",
     "iopub.status.busy": "2021-12-31T04:48:00.056980Z",
     "iopub.status.idle": "2021-12-31T04:48:00.061000Z",
     "shell.execute_reply": "2021-12-31T04:48:00.060136Z",
     "shell.execute_reply.started": "2021-12-31T04:48:00.057221Z"
    }
   },
   "outputs": [],
   "source": [
    "train.fillna(0, inplace=True)"
   ]
  },
  {
   "cell_type": "markdown",
   "metadata": {},
   "source": [
    "## test preprocessing"
   ]
  },
  {
   "cell_type": "code",
   "execution_count": 29,
   "metadata": {
    "execution": {
     "iopub.execute_input": "2021-12-31T04:47:34.072350Z",
     "iopub.status.busy": "2021-12-31T04:47:34.072045Z",
     "iopub.status.idle": "2021-12-31T04:47:34.088629Z",
     "shell.execute_reply": "2021-12-31T04:47:34.087614Z",
     "shell.execute_reply.started": "2021-12-31T04:47:34.072313Z"
    }
   },
   "outputs": [],
   "source": [
    "test = pd.get_dummies(test, columns=['Species', 'Island', 'Sex'])\n",
    "test['Clutch Completion'] = test['Clutch Completion'].eq('Yes').mul(1)\n",
    "numeric_cols = ['Culmen Length (mm)', 'Culmen Depth (mm)', 'Flipper Length (mm)', 'Delta 15 N (o/oo)', 'Delta 13 C (o/oo)']\n",
    "test[numeric_cols] = scaler.fit_transform(test[numeric_cols])\n",
    "test.fillna(0, inplace=True)"
   ]
  },
  {
   "cell_type": "code",
   "execution_count": 34,
   "metadata": {
    "execution": {
     "iopub.execute_input": "2021-12-31T04:48:08.644699Z",
     "iopub.status.busy": "2021-12-31T04:48:08.644411Z",
     "iopub.status.idle": "2021-12-31T04:48:08.664362Z",
     "shell.execute_reply": "2021-12-31T04:48:08.663571Z",
     "shell.execute_reply.started": "2021-12-31T04:48:08.644676Z"
    }
   },
   "outputs": [
    {
     "data": {
      "text/html": [
       "<div>\n",
       "<style scoped>\n",
       "    .dataframe tbody tr th:only-of-type {\n",
       "        vertical-align: middle;\n",
       "    }\n",
       "\n",
       "    .dataframe tbody tr th {\n",
       "        vertical-align: top;\n",
       "    }\n",
       "\n",
       "    .dataframe thead th {\n",
       "        text-align: right;\n",
       "    }\n",
       "</style>\n",
       "<table border=\"1\" class=\"dataframe\">\n",
       "  <thead>\n",
       "    <tr style=\"text-align: right;\">\n",
       "      <th></th>\n",
       "      <th>id</th>\n",
       "      <th>Clutch Completion</th>\n",
       "      <th>Culmen Length (mm)</th>\n",
       "      <th>Culmen Depth (mm)</th>\n",
       "      <th>Flipper Length (mm)</th>\n",
       "      <th>Delta 15 N (o/oo)</th>\n",
       "      <th>Delta 13 C (o/oo)</th>\n",
       "      <th>Species_Adelie Penguin (Pygoscelis adeliae)</th>\n",
       "      <th>Species_Chinstrap penguin (Pygoscelis antarctica)</th>\n",
       "      <th>Species_Gentoo penguin (Pygoscelis papua)</th>\n",
       "      <th>Island_Biscoe</th>\n",
       "      <th>Island_Dream</th>\n",
       "      <th>Island_Torgersen</th>\n",
       "      <th>Sex_FEMALE</th>\n",
       "      <th>Sex_MALE</th>\n",
       "    </tr>\n",
       "  </thead>\n",
       "  <tbody>\n",
       "    <tr>\n",
       "      <th>0</th>\n",
       "      <td>0</td>\n",
       "      <td>1</td>\n",
       "      <td>1.533232</td>\n",
       "      <td>1.751161</td>\n",
       "      <td>0.744723</td>\n",
       "      <td>1.288186</td>\n",
       "      <td>1.296887</td>\n",
       "      <td>0</td>\n",
       "      <td>1</td>\n",
       "      <td>0</td>\n",
       "      <td>0</td>\n",
       "      <td>1</td>\n",
       "      <td>0</td>\n",
       "      <td>0</td>\n",
       "      <td>1</td>\n",
       "    </tr>\n",
       "    <tr>\n",
       "      <th>1</th>\n",
       "      <td>1</td>\n",
       "      <td>1</td>\n",
       "      <td>2.243089</td>\n",
       "      <td>-0.110330</td>\n",
       "      <td>2.064958</td>\n",
       "      <td>-0.771598</td>\n",
       "      <td>-0.905400</td>\n",
       "      <td>0</td>\n",
       "      <td>0</td>\n",
       "      <td>1</td>\n",
       "      <td>1</td>\n",
       "      <td>0</td>\n",
       "      <td>0</td>\n",
       "      <td>0</td>\n",
       "      <td>1</td>\n",
       "    </tr>\n",
       "    <tr>\n",
       "      <th>2</th>\n",
       "      <td>2</td>\n",
       "      <td>1</td>\n",
       "      <td>-0.851157</td>\n",
       "      <td>0.795260</td>\n",
       "      <td>-0.722204</td>\n",
       "      <td>-0.665708</td>\n",
       "      <td>-0.585894</td>\n",
       "      <td>1</td>\n",
       "      <td>0</td>\n",
       "      <td>0</td>\n",
       "      <td>0</td>\n",
       "      <td>1</td>\n",
       "      <td>0</td>\n",
       "      <td>1</td>\n",
       "      <td>0</td>\n",
       "    </tr>\n",
       "    <tr>\n",
       "      <th>3</th>\n",
       "      <td>3</td>\n",
       "      <td>1</td>\n",
       "      <td>0.295534</td>\n",
       "      <td>-0.311572</td>\n",
       "      <td>-0.648858</td>\n",
       "      <td>1.641601</td>\n",
       "      <td>1.157827</td>\n",
       "      <td>0</td>\n",
       "      <td>1</td>\n",
       "      <td>0</td>\n",
       "      <td>0</td>\n",
       "      <td>1</td>\n",
       "      <td>0</td>\n",
       "      <td>1</td>\n",
       "      <td>0</td>\n",
       "    </tr>\n",
       "    <tr>\n",
       "      <th>4</th>\n",
       "      <td>4</td>\n",
       "      <td>0</td>\n",
       "      <td>-1.033172</td>\n",
       "      <td>0.694639</td>\n",
       "      <td>-2.042439</td>\n",
       "      <td>-0.638702</td>\n",
       "      <td>0.619036</td>\n",
       "      <td>1</td>\n",
       "      <td>0</td>\n",
       "      <td>0</td>\n",
       "      <td>1</td>\n",
       "      <td>0</td>\n",
       "      <td>0</td>\n",
       "      <td>1</td>\n",
       "      <td>0</td>\n",
       "    </tr>\n",
       "    <tr>\n",
       "      <th>...</th>\n",
       "      <td>...</td>\n",
       "      <td>...</td>\n",
       "      <td>...</td>\n",
       "      <td>...</td>\n",
       "      <td>...</td>\n",
       "      <td>...</td>\n",
       "      <td>...</td>\n",
       "      <td>...</td>\n",
       "      <td>...</td>\n",
       "      <td>...</td>\n",
       "      <td>...</td>\n",
       "      <td>...</td>\n",
       "      <td>...</td>\n",
       "      <td>...</td>\n",
       "      <td>...</td>\n",
       "    </tr>\n",
       "    <tr>\n",
       "      <th>223</th>\n",
       "      <td>223</td>\n",
       "      <td>1</td>\n",
       "      <td>1.041793</td>\n",
       "      <td>1.348676</td>\n",
       "      <td>0.231298</td>\n",
       "      <td>2.128226</td>\n",
       "      <td>1.414621</td>\n",
       "      <td>0</td>\n",
       "      <td>1</td>\n",
       "      <td>0</td>\n",
       "      <td>0</td>\n",
       "      <td>1</td>\n",
       "      <td>0</td>\n",
       "      <td>0</td>\n",
       "      <td>1</td>\n",
       "    </tr>\n",
       "    <tr>\n",
       "      <th>224</th>\n",
       "      <td>224</td>\n",
       "      <td>1</td>\n",
       "      <td>0.532153</td>\n",
       "      <td>-1.217163</td>\n",
       "      <td>1.258148</td>\n",
       "      <td>-0.269245</td>\n",
       "      <td>-1.220144</td>\n",
       "      <td>0</td>\n",
       "      <td>0</td>\n",
       "      <td>1</td>\n",
       "      <td>1</td>\n",
       "      <td>0</td>\n",
       "      <td>0</td>\n",
       "      <td>1</td>\n",
       "      <td>0</td>\n",
       "    </tr>\n",
       "    <tr>\n",
       "      <th>225</th>\n",
       "      <td>225</td>\n",
       "      <td>1</td>\n",
       "      <td>0.532153</td>\n",
       "      <td>-1.871200</td>\n",
       "      <td>0.744723</td>\n",
       "      <td>-1.353848</td>\n",
       "      <td>0.447691</td>\n",
       "      <td>0</td>\n",
       "      <td>0</td>\n",
       "      <td>1</td>\n",
       "      <td>1</td>\n",
       "      <td>0</td>\n",
       "      <td>0</td>\n",
       "      <td>1</td>\n",
       "      <td>0</td>\n",
       "    </tr>\n",
       "    <tr>\n",
       "      <th>226</th>\n",
       "      <td>226</td>\n",
       "      <td>1</td>\n",
       "      <td>1.260211</td>\n",
       "      <td>1.197745</td>\n",
       "      <td>0.084606</td>\n",
       "      <td>1.977025</td>\n",
       "      <td>1.237539</td>\n",
       "      <td>0</td>\n",
       "      <td>1</td>\n",
       "      <td>0</td>\n",
       "      <td>0</td>\n",
       "      <td>1</td>\n",
       "      <td>0</td>\n",
       "      <td>0</td>\n",
       "      <td>1</td>\n",
       "    </tr>\n",
       "    <tr>\n",
       "      <th>227</th>\n",
       "      <td>227</td>\n",
       "      <td>1</td>\n",
       "      <td>-1.087776</td>\n",
       "      <td>0.946192</td>\n",
       "      <td>-0.428819</td>\n",
       "      <td>0.693132</td>\n",
       "      <td>-0.302051</td>\n",
       "      <td>1</td>\n",
       "      <td>0</td>\n",
       "      <td>0</td>\n",
       "      <td>1</td>\n",
       "      <td>0</td>\n",
       "      <td>0</td>\n",
       "      <td>0</td>\n",
       "      <td>1</td>\n",
       "    </tr>\n",
       "  </tbody>\n",
       "</table>\n",
       "<p>228 rows × 15 columns</p>\n",
       "</div>"
      ],
      "text/plain": [
       "      id  Clutch Completion  Culmen Length (mm)  Culmen Depth (mm)  \\\n",
       "0      0                  1            1.533232           1.751161   \n",
       "1      1                  1            2.243089          -0.110330   \n",
       "2      2                  1           -0.851157           0.795260   \n",
       "3      3                  1            0.295534          -0.311572   \n",
       "4      4                  0           -1.033172           0.694639   \n",
       "..   ...                ...                 ...                ...   \n",
       "223  223                  1            1.041793           1.348676   \n",
       "224  224                  1            0.532153          -1.217163   \n",
       "225  225                  1            0.532153          -1.871200   \n",
       "226  226                  1            1.260211           1.197745   \n",
       "227  227                  1           -1.087776           0.946192   \n",
       "\n",
       "     Flipper Length (mm)  Delta 15 N (o/oo)  Delta 13 C (o/oo)  \\\n",
       "0               0.744723           1.288186           1.296887   \n",
       "1               2.064958          -0.771598          -0.905400   \n",
       "2              -0.722204          -0.665708          -0.585894   \n",
       "3              -0.648858           1.641601           1.157827   \n",
       "4              -2.042439          -0.638702           0.619036   \n",
       "..                   ...                ...                ...   \n",
       "223             0.231298           2.128226           1.414621   \n",
       "224             1.258148          -0.269245          -1.220144   \n",
       "225             0.744723          -1.353848           0.447691   \n",
       "226             0.084606           1.977025           1.237539   \n",
       "227            -0.428819           0.693132          -0.302051   \n",
       "\n",
       "     Species_Adelie Penguin (Pygoscelis adeliae)  \\\n",
       "0                                              0   \n",
       "1                                              0   \n",
       "2                                              1   \n",
       "3                                              0   \n",
       "4                                              1   \n",
       "..                                           ...   \n",
       "223                                            0   \n",
       "224                                            0   \n",
       "225                                            0   \n",
       "226                                            0   \n",
       "227                                            1   \n",
       "\n",
       "     Species_Chinstrap penguin (Pygoscelis antarctica)  \\\n",
       "0                                                    1   \n",
       "1                                                    0   \n",
       "2                                                    0   \n",
       "3                                                    1   \n",
       "4                                                    0   \n",
       "..                                                 ...   \n",
       "223                                                  1   \n",
       "224                                                  0   \n",
       "225                                                  0   \n",
       "226                                                  1   \n",
       "227                                                  0   \n",
       "\n",
       "     Species_Gentoo penguin (Pygoscelis papua)  Island_Biscoe  Island_Dream  \\\n",
       "0                                            0              0             1   \n",
       "1                                            1              1             0   \n",
       "2                                            0              0             1   \n",
       "3                                            0              0             1   \n",
       "4                                            0              1             0   \n",
       "..                                         ...            ...           ...   \n",
       "223                                          0              0             1   \n",
       "224                                          1              1             0   \n",
       "225                                          1              1             0   \n",
       "226                                          0              0             1   \n",
       "227                                          0              1             0   \n",
       "\n",
       "     Island_Torgersen  Sex_FEMALE  Sex_MALE  \n",
       "0                   0           0         1  \n",
       "1                   0           0         1  \n",
       "2                   0           1         0  \n",
       "3                   0           1         0  \n",
       "4                   0           1         0  \n",
       "..                ...         ...       ...  \n",
       "223                 0           0         1  \n",
       "224                 0           1         0  \n",
       "225                 0           1         0  \n",
       "226                 0           0         1  \n",
       "227                 0           0         1  \n",
       "\n",
       "[228 rows x 15 columns]"
      ]
     },
     "execution_count": 34,
     "metadata": {},
     "output_type": "execute_result"
    }
   ],
   "source": [
    "test"
   ]
  },
  {
   "cell_type": "markdown",
   "metadata": {},
   "source": [
    "# model"
   ]
  },
  {
   "cell_type": "code",
   "execution_count": 37,
   "metadata": {
    "execution": {
     "iopub.execute_input": "2021-12-31T04:49:15.704118Z",
     "iopub.status.busy": "2021-12-31T04:49:15.703785Z",
     "iopub.status.idle": "2021-12-31T04:49:15.708939Z",
     "shell.execute_reply": "2021-12-31T04:49:15.708065Z",
     "shell.execute_reply.started": "2021-12-31T04:49:15.704089Z"
    }
   },
   "outputs": [],
   "source": [
    "label = train['Body Mass (g)']\n",
    "train.drop(columns='Body Mass (g)', inplace=True)"
   ]
  },
  {
   "cell_type": "code",
   "execution_count": 39,
   "metadata": {
    "execution": {
     "iopub.execute_input": "2021-12-31T04:49:21.443506Z",
     "iopub.status.busy": "2021-12-31T04:49:21.443235Z",
     "iopub.status.idle": "2021-12-31T04:49:21.587267Z",
     "shell.execute_reply": "2021-12-31T04:49:21.586278Z",
     "shell.execute_reply.started": "2021-12-31T04:49:21.443484Z"
    }
   },
   "outputs": [
    {
     "name": "stdout",
     "output_type": "stream",
     "text": [
      "alpha 값  0 일때 평균 rmse : 340.297\n",
      "alpha 값  0.1 일때 평균 rmse : 337.3938\n",
      "alpha 값  1 일때 평균 rmse : 330.0504\n",
      "alpha 값  10 일때 평균 rmse : 327.8767\n",
      "alpha 값  100 일때 평균 rmse : 404.7959\n"
     ]
    }
   ],
   "source": [
    "from sklearn.linear_model import Ridge\n",
    "from sklearn.model_selection import cross_val_score\n",
    "\n",
    "alphas = [0,0.1,1,10,100]\n",
    "\n",
    "for alpha in alphas:\n",
    "    ridge = Ridge(alpha=alpha)\n",
    "    neg_mse_scores = cross_val_score(ridge, train, label, scoring = 'neg_mean_squared_error', cv = 5)\n",
    "    avg_rmse = np.mean(np.sqrt(-neg_mse_scores))\n",
    "    print('alpha 값 ', alpha, '일때 평균 rmse :', np.round(avg_rmse,4))    "
   ]
  },
  {
   "cell_type": "code",
   "execution_count": 40,
   "metadata": {
    "execution": {
     "iopub.execute_input": "2021-12-31T04:50:13.953204Z",
     "iopub.status.busy": "2021-12-31T04:50:13.952901Z",
     "iopub.status.idle": "2021-12-31T04:50:13.956724Z",
     "shell.execute_reply": "2021-12-31T04:50:13.956014Z",
     "shell.execute_reply.started": "2021-12-31T04:50:13.953179Z"
    }
   },
   "outputs": [],
   "source": [
    "from datetime import datetime"
   ]
  },
  {
   "cell_type": "code",
   "execution_count": 46,
   "metadata": {
    "execution": {
     "iopub.execute_input": "2021-12-31T04:50:52.853625Z",
     "iopub.status.busy": "2021-12-31T04:50:52.853368Z",
     "iopub.status.idle": "2021-12-31T04:50:52.884103Z",
     "shell.execute_reply": "2021-12-31T04:50:52.883223Z",
     "shell.execute_reply.started": "2021-12-31T04:50:52.853601Z"
    }
   },
   "outputs": [],
   "source": [
    "ridge = Ridge(alpha = 10)\n",
    "ridge.fit(train, label)\n",
    "sample_submission['Body Mass (g)'] = ridge.predict(test.iloc[:, 1:])\n",
    "sample_submission.to_csv('.penguin_result_{}.csv'.format(datetime.now().strftime('%Y%m%d%H%M')), index=False)"
   ]
  },
  {
   "cell_type": "code",
   "execution_count": null,
   "metadata": {},
   "outputs": [],
   "source": []
  }
 ],
 "metadata": {
  "kernelspec": {
   "display_name": "Python 3",
   "language": "python",
   "name": "python3"
  },
  "language_info": {
   "codemirror_mode": {
    "name": "ipython",
    "version": 3
   },
   "file_extension": ".py",
   "mimetype": "text/x-python",
   "name": "python",
   "nbconvert_exporter": "python",
   "pygments_lexer": "ipython3",
   "version": "3.7.3"
  }
 },
 "nbformat": 4,
 "nbformat_minor": 4
}
